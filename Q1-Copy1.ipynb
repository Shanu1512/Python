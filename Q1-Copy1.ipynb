{
 "cells": [
  {
   "cell_type": "code",
   "execution_count": null,
   "id": "81c8ace0",
   "metadata": {},
   "outputs": [],
   "source": [
    "# Q:-Write a program, which will find all such numbers between 1000 and 3000 (both included) such that each digit of the number is an even number. \n",
    "for i in range(1000,3001):\n",
    "    b=str(i)\n",
    "    if (int(b[0])%2==0 and int(b[1])%2==0 and int(b[2])%2==0 and int(b[3])%2==0):\n",
    "        \n",
    "        print(b,end=\",\")\n",
    "    "
   ]
  }
 ],
 "metadata": {
  "kernelspec": {
   "display_name": "Python 3 (ipykernel)",
   "language": "python",
   "name": "python3"
  },
  "language_info": {
   "codemirror_mode": {
    "name": "ipython",
    "version": 3
   },
   "file_extension": ".py",
   "mimetype": "text/x-python",
   "name": "python",
   "nbconvert_exporter": "python",
   "pygments_lexer": "ipython3",
   "version": "3.9.12"
  }
 },
 "nbformat": 4,
 "nbformat_minor": 5
}
