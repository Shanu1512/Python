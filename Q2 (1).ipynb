{
 "cells": [
  {
   "cell_type": "code",
   "execution_count": null,
   "id": "8fe9d36a",
   "metadata": {},
   "outputs": [],
   "source": [
    "#Q.Write a program to print first 10 integers and their squares using while loop.    \n",
    "num=1\n",
    "print(\"Numbers\\tSquares\")\n",
    "while(num<=10):\n",
    "    print(num,\"\\t\",num**2)\n",
    "    num+=1\n"
   ]
  }
 ],
 "metadata": {
  "kernelspec": {
   "display_name": "Python 3 (ipykernel)",
   "language": "python",
   "name": "python3"
  },
  "language_info": {
   "codemirror_mode": {
    "name": "ipython",
    "version": 3
   },
   "file_extension": ".py",
   "mimetype": "text/x-python",
   "name": "python",
   "nbconvert_exporter": "python",
   "pygments_lexer": "ipython3",
   "version": "3.9.12"
  }
 },
 "nbformat": 4,
 "nbformat_minor": 5
}
